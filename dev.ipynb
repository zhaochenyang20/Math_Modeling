{
 "cells": [
  {
   "cell_type": "code",
   "execution_count": 1,
   "metadata": {},
   "outputs": [],
   "source": [
    "from data_prepare.dataloader import DataLoader\n",
    "from modeling.neuron import Neuron\n",
    "import numpy as np\n",
    "import matplotlib.pyplot as plt\n",
    "from typing import *\n",
    "from pathlib import Path\n",
    "\n",
    "def pdprint(*args, **kwargs):\n",
    "    print(\"[debug]\", *args, **kwargs)"
   ]
  },
  {
   "cell_type": "code",
   "execution_count": 2,
   "metadata": {},
   "outputs": [
    {
     "name": "stdout",
     "output_type": "stream",
     "text": [
      "======= Loading data =======\n",
      "Loading matlab file from /home/tongyx361/code/math-modeling/Math_Modeling/dataset/infer_results_1.mat\n",
      "Loading matlab file from /home/tongyx361/code/math-modeling/Math_Modeling/dataset/infer_results_2.mat\n",
      "Loading matlab file from /home/tongyx361/code/math-modeling/Math_Modeling/dataset/infer_results_id_1.mat\n",
      "Loading matlab file from /home/tongyx361/code/math-modeling/Math_Modeling/dataset/infer_results_id_2.mat\n",
      "Loading excel file from /home/tongyx361/code/math-modeling/Math_Modeling/dataset/Infer results 1/brain_region_name1.xlsx\n"
     ]
    },
    {
     "name": "stderr",
     "output_type": "stream",
     "text": [
      "/home/tongyx361/anaconda3/lib/python3.9/site-packages/scipy/io/matlab/mio.py:226: MatReadWarning: Duplicate variable name \"None\" in stream - replacing previous with new\n",
      "Consider mio5.varmats_from_mat to split file into single variable files\n",
      "  matfile_dict = MR.get_variables(variable_names)\n"
     ]
    },
    {
     "name": "stdout",
     "output_type": "stream",
     "text": [
      "Loading excel file from /home/tongyx361/code/math-modeling/Math_Modeling/dataset/Infer results 2/brain_region_name2.xlsx\n"
     ]
    }
   ],
   "source": [
    "HOME = Path.cwd()\n",
    "dataset_root = HOME / \"dataset\"\n",
    "dataset_root.mkdir(parents=True, exist_ok=True)\n",
    "neu_store_path = dataset_root / \"neuron.npy\"\n",
    "if not neu_store_path.exists():\n",
    "    neu = Neuron()\n",
    "    np.save(str(neu_store_path), neu)\n",
    "else:\n",
    "    neu = np.load(str(neu_store_path), allow_pickle=True).item()"
   ]
  },
  {
   "cell_type": "code",
   "execution_count": 3,
   "metadata": {},
   "outputs": [],
   "source": [
    "def plot_spikes_time_series(\n",
    "    neuron, region_ids: List = [], stage_idx: int = -1, **kwargs\n",
    "):\n",
    "    \"\"\"Plot the time series of spikes of neurons in stage(s).\n",
    "\n",
    "    Args:\n",
    "        save_pic (bool, optional): Save the picture or not. Defaults to False.\n",
    "    \"\"\"\n",
    "    if region_ids == []:\n",
    "        region_ids = neuron.categories\n",
    "    save_pic = kwargs.get(\"save_pic\", False)\n",
    "\n",
    "    stages = {\n",
    "        -1: (0, neuron.obs_len),\n",
    "        0: (0, 1000),\n",
    "        1: (1000, 7000),\n",
    "        2: (7000, neuron.obs_len),\n",
    "    }\n",
    "\n",
    "    # select by region_ids\n",
    "\n",
    "    region_mean_spikes = {}\n",
    "    for region_id in neuron.categories:\n",
    "        selection = neuron.region_id == region_id\n",
    "        region_mean_spikes[region_id] = np.mean(\n",
    "            neuron.data.global_S[\n",
    "                selection, stages[stage_idx][0] : stages[stage_idx][1]\n",
    "            ],\n",
    "            axis=0,\n",
    "        )\n",
    "    \n",
    "    # visualize\n",
    "    all_region_mean_spikes = np.array(list(region_mean_spikes.values()))\n",
    "    # pdprint(all_region_mean_spikes.shape)\n",
    "    # pdprint(all_region_mean_spikes)\n",
    "    max_region_mean_spike = np.max(all_region_mean_spikes)\n",
    "    fig, ax = plt.subplots(figsize=(20, 6))\n",
    "    ax.set_ylim(0, max_region_mean_spike)\n",
    "    for region_id in region_ids:\n",
    "        spikes = region_mean_spikes[region_id]\n",
    "        ax.plot(\n",
    "            np.arange(spikes.shape[0]) * 0.1,\n",
    "            spikes,\n",
    "            c=neuron.cmap[region_id],\n",
    "            label=f\"Region {region_id}\",\n",
    "            alpha=0.5,\n",
    "        )\n",
    "    \n",
    "    ax.set_title(\n",
    "        f\"Spikes Time Series of Neurons\\nin Regions {region_ids if region_ids != [] else 'All'}\\n\\\n",
    "        across {f'Stage {stage_idx+1}' if stage_idx != -1 else 'All Stages'}\"\n",
    "    )\n",
    "    ax.set_xlabel(\"Time (s)\")\n",
    "    ax.set_ylabel(\"Spikes\")\n",
    "    if not save_pic:\n",
    "        fig.show()\n",
    "    else:\n",
    "        from pathlib import Path\n",
    "\n",
    "        pic_root = Path.cwd() / \"pics\" / \"时区图\"\n",
    "        pic_root.mkdir(parents=True, exist_ok=True)\n",
    "        file_path = pic_root / f\"times_{'-'.join(map(str, region_ids))}.png\"\n",
    "        plt.savefig(file_path)\n",
    "        print(f\"Created {str(file_path)}\")\n"
   ]
  },
  {
   "cell_type": "code",
   "execution_count": 4,
   "metadata": {},
   "outputs": [],
   "source": [
    "# plot_spikes_time_series(neu, region_ids=[], save_pic=True)\n",
    "# for region_id in neu.categories:\n",
    "#     plot_spikes_time_series(neu, region_ids=[region_id], save_pic=True)\n",
    "#     # break"
   ]
  },
  {
   "cell_type": "code",
   "execution_count": 5,
   "metadata": {},
   "outputs": [],
   "source": [
    "def devide_by_regions(neuron, data):\n",
    "    region_data = {}\n",
    "    for region_id in neuron.categories:\n",
    "        selection = (neuron.region_id == region_id)\n",
    "        region_data[region_id] = neuron.data.global_S[selection]\n",
    "    return region_data\n",
    "\n",
    "def plot_active_regions_by_steps(neuron, abs_threshhold = 0, rel_threshold = 0.8, step=100, *args, **kwargs):\n",
    "    region_spikes = devide_by_regions(neu, neu.data.global_S)\n",
    "    region_mean_spikes = { region_id: np.mean(region_spikes[region_id], axis=0) for region_id in neu.categories }\n",
    "    # 计算每个区域的细胞平均尖峰强度，并按照时间步长分组\n",
    "    max_obs_len = int((neuron.obs_len * 0.1 // step) * step * 10)\n",
    "    # pdprint(max_obs_len)\n",
    "    region_step_mean_spikes = { region_id: np.mean(region_mean_spikes[region_id][:max_obs_len].reshape(step * 10, -1), axis=1).transpose() for region_id in neu.categories }\n",
    "    # pdprint(region_step_mean_spikes)\n",
    "    # 在每一时间步中，对各区域平均尖峰强度进行排序，取最高的20%（数量向下取整）的区域计为该时间步的活跃区域，最终得到各时间步的活跃区域列表组成的列表 active_regions_in_steps\n",
    "    \n",
    "    # 根据 active_regions_in_steps 调用 neuron.plot_brain_regions() 绘制活跃区域随时间步变化的图像"
   ]
  },
  {
   "cell_type": "code",
   "execution_count": 6,
   "metadata": {},
   "outputs": [],
   "source": [
    "def plot_active_regions_by_steps(neuron, abs_threshold=0, rel_threshold=0.8, step=100, *args, **kwargs):\n",
    "    \"\"\"\n",
    "    绘制每一时间步的活跃区域随时间变化的图像\n",
    "\n",
    "    Args:\n",
    "    ----\n",
    "    neuron: NeuronData\n",
    "        NeuronData 类型的对象\n",
    "    abs_threshold: float\n",
    "        绝对阈值，指尖峰强度大于等于该值的被认为是尖峰，单位为微伏（uV）\n",
    "    rel_threshold: float\n",
    "        相对阈值，指尖峰强度在所有样本中的排名大于等于该值的被认为是尖峰\n",
    "    step: int\n",
    "        时间步长，单位为毫秒（ms）\n",
    "    *args, **kwargs:\n",
    "        可变参数和关键字参数，用于传递给 neuron.plot_brain_regions() 函数\n",
    "\n",
    "    Returns:\n",
    "    -------\n",
    "    None\n",
    "    \"\"\"\n",
    "    region_spikes = devide_by_regions(neuron, neuron.data.global_S)\n",
    "    region_mean_spikes = {region_id: np.mean(region_spikes[region_id], axis=0) for region_id in neuron.categories}\n",
    "    # 计算每个区域的细胞平均尖峰强度，并按照时间步长分组\n",
    "    max_step_num = int(neuron.obs_len * 0.1 // step)\n",
    "    max_obs_len = step * 10\n",
    "    region_step_mean_spikes = {region_id: np.mean(region_mean_spikes[region_id][:max_obs_len].reshape(step * 10, -1), axis=1).transpose() for region_id in neuron.categories}\n",
    "    # 在每一时间步中，对各区域平均尖峰强度进行排序，取最高的20%（数量向下取整）的区域计为该时间步的活跃区域，\n",
    "    # 最终得到各时间步的活跃区域列表组成的列表 active_regions_in_steps\n",
    "    active_region_ids_in_steps = []\n",
    "    for i in range(max_step_num):\n",
    "        region_mean_spikes = np.array([(region_id, mean_spikes[i]) for region_id, mean_spikes in region_step_mean_spikes.items()])\n",
    "        region_ids_active_descend = region_mean_spikes[region_mean_spikes[:, 1].argsort()][:, 0]\n",
    "        \n",
    "        region_ids_active_descend = region_ids_active_descend[:int((region_ids_active_descend.size * (1 - rel_threshold)))]\n",
    "        active_region_ids_in_steps.append(region_ids_active_descend)\n",
    "        \n",
    "    # 根据 active_regions_in_steps 调用 neuron.plot_brain_regions() 绘制活跃区域随时间步变化的图像\n",
    "    for idx, region_ids in enumerate(active_region_ids_in_steps):\n",
    "        neuron.plot_brain_regions(list(region_ids),\n",
    "                                  title = f\"Active Regions in [{idx * step}, {(idx + 1) * step}) ms\",\n",
    "                                  *args, **kwargs)"
   ]
  },
  {
   "cell_type": "code",
   "execution_count": 7,
   "metadata": {},
   "outputs": [
    {
     "ename": "NameError",
     "evalue": "name 'devide_by_regions' is not defined",
     "output_type": "error",
     "traceback": [
      "\u001b[0;31m---------------------------------------------------------------------------\u001b[0m",
      "\u001b[0;31mNameError\u001b[0m                                 Traceback (most recent call last)",
      "\u001b[1;32m/home/tongyx361/code/math-modeling/Math_Modeling/dev.ipynb Cell 7\u001b[0m in \u001b[0;36m<cell line: 1>\u001b[0;34m()\u001b[0m\n\u001b[0;32m----> <a href='vscode-notebook-cell://wsl%2Bubuntu/home/tongyx361/code/math-modeling/Math_Modeling/dev.ipynb#W6sdnNjb2RlLXJlbW90ZQ%3D%3D?line=0'>1</a>\u001b[0m plot_active_regions_by_steps(neu)\n",
      "\u001b[1;32m/home/tongyx361/code/math-modeling/Math_Modeling/dev.ipynb Cell 7\u001b[0m in \u001b[0;36mplot_active_regions_by_steps\u001b[0;34m(neuron, abs_threshold, rel_threshold, step, *args, **kwargs)\u001b[0m\n\u001b[1;32m     <a href='vscode-notebook-cell://wsl%2Bubuntu/home/tongyx361/code/math-modeling/Math_Modeling/dev.ipynb#W6sdnNjb2RlLXJlbW90ZQ%3D%3D?line=37'>38</a>\u001b[0m \u001b[39m# 根据 active_regions_in_steps 调用 neuron.plot_brain_regions() 绘制活跃区域随时间步变化的图像\u001b[39;00m\n\u001b[1;32m     <a href='vscode-notebook-cell://wsl%2Bubuntu/home/tongyx361/code/math-modeling/Math_Modeling/dev.ipynb#W6sdnNjb2RlLXJlbW90ZQ%3D%3D?line=38'>39</a>\u001b[0m \u001b[39mfor\u001b[39;00m idx, region_ids \u001b[39min\u001b[39;00m \u001b[39menumerate\u001b[39m(active_region_ids_in_steps):\n\u001b[0;32m---> <a href='vscode-notebook-cell://wsl%2Bubuntu/home/tongyx361/code/math-modeling/Math_Modeling/dev.ipynb#W6sdnNjb2RlLXJlbW90ZQ%3D%3D?line=39'>40</a>\u001b[0m     neuron\u001b[39m.\u001b[39;49mplot_brain_regions(\u001b[39mlist\u001b[39;49m(region_ids),\n\u001b[1;32m     <a href='vscode-notebook-cell://wsl%2Bubuntu/home/tongyx361/code/math-modeling/Math_Modeling/dev.ipynb#W6sdnNjb2RlLXJlbW90ZQ%3D%3D?line=40'>41</a>\u001b[0m                               title \u001b[39m=\u001b[39;49m \u001b[39mf\u001b[39;49m\u001b[39m\"\u001b[39;49m\u001b[39mActive Regions in [\u001b[39;49m\u001b[39m{\u001b[39;49;00midx \u001b[39m*\u001b[39;49m step\u001b[39m}\u001b[39;49;00m\u001b[39m, \u001b[39;49m\u001b[39m{\u001b[39;49;00m(idx \u001b[39m+\u001b[39;49m \u001b[39m1\u001b[39;49m) \u001b[39m*\u001b[39;49m step\u001b[39m}\u001b[39;49;00m\u001b[39m) ms\u001b[39;49m\u001b[39m\"\u001b[39;49m,\n\u001b[1;32m     <a href='vscode-notebook-cell://wsl%2Bubuntu/home/tongyx361/code/math-modeling/Math_Modeling/dev.ipynb#W6sdnNjb2RlLXJlbW90ZQ%3D%3D?line=41'>42</a>\u001b[0m                               \u001b[39m*\u001b[39;49margs, \u001b[39m*\u001b[39;49m\u001b[39m*\u001b[39;49mkwargs)\n",
      "File \u001b[0;32m~/code/math-modeling/Math_Modeling/modeling/neuron.py:85\u001b[0m, in \u001b[0;36mNeuron.plot_brain_regions\u001b[0;34m(self, region_ids, title, *args, **kwargs)\u001b[0m\n\u001b[1;32m     83\u001b[0m \u001b[39mdef\u001b[39;00m \u001b[39mplot_brain_regions\u001b[39m(\u001b[39mself\u001b[39m, region_ids \u001b[39m=\u001b[39m \u001b[39mNone\u001b[39;00m, title \u001b[39m=\u001b[39m \u001b[39mNone\u001b[39;00m ,\u001b[39m*\u001b[39margs, \u001b[39m*\u001b[39m\u001b[39m*\u001b[39mkwargs):\n\u001b[1;32m     84\u001b[0m     \u001b[39mif\u001b[39;00m region_ids:\n\u001b[0;32m---> 85\u001b[0m         region_poses \u001b[39m=\u001b[39m devide_by_regions(\u001b[39mself\u001b[39m\u001b[39m.\u001b[39mdata\u001b[39m.\u001b[39mglobal_centers)\n\u001b[1;32m     86\u001b[0m         \u001b[39mfor\u001b[39;00m region_id \u001b[39min\u001b[39;00m region_ids:\n\u001b[1;32m     87\u001b[0m             region_pos \u001b[39m=\u001b[39m region_poses[region_id]\n",
      "\u001b[0;31mNameError\u001b[0m: name 'devide_by_regions' is not defined"
     ]
    }
   ],
   "source": [
    "plot_active_regions_by_steps(neu)"
   ]
  },
  {
   "attachments": {},
   "cell_type": "markdown",
   "metadata": {},
   "source": [
    "# Test"
   ]
  },
  {
   "cell_type": "code",
   "execution_count": null,
   "metadata": {},
   "outputs": [
    {
     "name": "stdout",
     "output_type": "stream",
     "text": [
      "[[1 2]\n",
      " [3 4]]\n"
     ]
    }
   ],
   "source": [
    "a = np.array([1,2,3,4])\n",
    "a1 = a.reshape(2, -1)\n",
    "print(a1)"
   ]
  },
  {
   "cell_type": "code",
   "execution_count": null,
   "metadata": {},
   "outputs": [],
   "source": [
    "print(neu.data.global_C.shape)\n",
    "print(neu.data.global_C)\n",
    "print(neu.data.global_S.shape)\n",
    "print(neu.data.global_S)"
   ]
  },
  {
   "cell_type": "code",
   "execution_count": null,
   "metadata": {},
   "outputs": [],
   "source": [
    "neuron_idx = 2\n",
    "spike_units = neu.data.global_S[neuron_idx]\n",
    "spike_times = np.nonzero(spike_units)\n",
    "spike_durations = spike_units[spike_times]\n",
    "\n",
    "print(spike_units)\n",
    "print(spike_times)\n",
    "print(spike_durations)\n",
    "print(np.count_nonzero(spike_units))\n",
    "plt.plot(spike_units)"
   ]
  }
 ],
 "metadata": {
  "kernelspec": {
   "display_name": "da",
   "language": "python",
   "name": "python3"
  },
  "language_info": {
   "codemirror_mode": {
    "name": "ipython",
    "version": 3
   },
   "file_extension": ".py",
   "mimetype": "text/x-python",
   "name": "python",
   "nbconvert_exporter": "python",
   "pygments_lexer": "ipython3",
   "version": "3.9.12"
  },
  "orig_nbformat": 4
 },
 "nbformat": 4,
 "nbformat_minor": 2
}
