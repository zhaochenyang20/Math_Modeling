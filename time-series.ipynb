{
 "cells": [
  {
   "cell_type": "code",
   "execution_count": null,
   "metadata": {},
   "outputs": [],
   "source": [
    "from data_prepare.dataloader import DataLoader\n",
    "from modeling.neuron import Neuron\n",
    "import numpy as np\n",
    "import matplotlib.pyplot as plt\n",
    "from typing import *\n",
    "\n",
    "def pdprint(*args, **kwargs):\n",
    "    print(\"[debug]\", *args, **kwargs)"
   ]
  },
  {
   "cell_type": "code",
   "execution_count": null,
   "metadata": {},
   "outputs": [],
   "source": [
    "neu = Neuron()"
   ]
  },
  {
   "cell_type": "code",
   "execution_count": null,
   "metadata": {},
   "outputs": [],
   "source": [
    "def plot_spikes_time_series(neuron,\n",
    "                            region_ids: List = [],\n",
    "                            stage_idx: int = -1,\n",
    "                            **kwargs):\n",
    "    \"\"\"Plot the time series of spikes of neurons in stage(s).\n",
    "    \n",
    "    Args:\n",
    "        save_pic (bool, optional): Save the picture or not. Defaults to False.\n",
    "    \"\"\"\n",
    "    if region_ids == []:\n",
    "        region_ids = neuron.categories\n",
    "    save_pic = kwargs.get('save_pic', False)\n",
    "    \n",
    "    stages = {\n",
    "        -1: (0, neu.obs_len),\n",
    "        0: (0, 1000),\n",
    "        1: (1000, 7000),\n",
    "        2: (7000, neuron.obs_len)\n",
    "    }\n",
    "    \n",
    "    # select by region_ids\n",
    "    \n",
    "    fig, ax = plt.subplots(figsize=(20, 6))\n",
    "    all_samples = np.ones(neuron.data.global_S.shape[1], dtype=bool)\n",
    "    for region_id in region_ids:\n",
    "        selection = (neuron.region_id == region_id)\n",
    "        spikes = np.sum(neuron.data.global_S[selection, stages[stage_idx][0]:stages[stage_idx][1]], axis=0)\n",
    "        # pdprint(spikes.shape)\n",
    "        # spike_units = np.where(spikes, 1, 0)\n",
    "        # pdprint(spike_units.shape)\n",
    "        ax.plot(np.arange(spikes.shape[0]) * 0.1, spikes, c=neuron.cmap[region_id], label=f\"Region {region_id}\", alpha=0.5)\n",
    "        \n",
    "        # ax.stackplot(np.arange(spike_units.shape[1]) * 0.1, spike_units, colors=colors)\n",
    "        # set the title and axes labels\n",
    "    ax.set_title(f\"Spikes Time Series of Neurons\\nin Regions {region_ids if region_ids != [] else 'All'}\\n\\\n",
    "        across {f'Stage {stage_idx+1}' if stage_idx != -1 else 'All Stages'}\")\n",
    "    ax.set_xlabel(\"Time (s)\")\n",
    "    ax.set_ylabel(\"Spikes\")\n",
    "    if not save_pic:\n",
    "        fig.show()\n",
    "    else:\n",
    "        from pathlib import Path\n",
    "        raise NotImplementedError()"
   ]
  },
  {
   "cell_type": "code",
   "execution_count": null,
   "metadata": {},
   "outputs": [],
   "source": [
    "plot_spikes_time_series(neu)"
   ]
  },
  {
   "cell_type": "code",
   "execution_count": null,
   "metadata": {},
   "outputs": [],
   "source": [
    "print(neu.data.global_C.shape)\n",
    "print(neu.data.global_C)\n",
    "print(neu.data.global_S.shape)\n",
    "print(neu.data.global_S)"
   ]
  },
  {
   "cell_type": "code",
   "execution_count": null,
   "metadata": {},
   "outputs": [],
   "source": [
    "neuron_idx = 2\n",
    "spike_units = neu.data.global_S[neuron_idx]\n",
    "spike_times = np.nonzero(spike_units)\n",
    "spike_durations = spike_units[spike_times]\n",
    "\n",
    "print(spike_units)\n",
    "print(spike_times)\n",
    "print(spike_durations)\n",
    "print(np.count_nonzero(spike_units))\n",
    "plt.plot(spike_units)"
   ]
  },
  {
   "cell_type": "code",
   "execution_count": null,
   "metadata": {},
   "outputs": [],
   "source": [
    "import matplotlib.pyplot as plt\n",
    "\n",
    "x = [1, 2, 3, 4, 5]\n",
    "y1 = [1, 2, 3, 2, 1]\n",
    "y2 = [0, 1, 2, 3, 4]\n",
    "y3 = [3, 3, 3, 3, 3]\n",
    "\n",
    "plt.stackplot(x, y1, y2, y3, labels=['y1', 'y2', 'y3'])\n",
    "plt.legend(loc='upper left')\n",
    "plt.show()\n"
   ]
  }
 ],
 "metadata": {
  "kernelspec": {
   "display_name": "da",
   "language": "python",
   "name": "python3"
  },
  "language_info": {
   "codemirror_mode": {
    "name": "ipython",
    "version": 3
   },
   "file_extension": ".py",
   "mimetype": "text/x-python",
   "name": "python",
   "nbconvert_exporter": "python",
   "pygments_lexer": "ipython3",
   "version": "3.10.4"
  },
  "orig_nbformat": 4
 },
 "nbformat": 4,
 "nbformat_minor": 2
}
